{
 "cells": [
  {
   "cell_type": "markdown",
   "metadata": {},
   "source": [
    "# Trabajo Práctico N. ° 1: Análisis exploratorio de datos de TROCAFONE\n",
    "\n",
    "Primero se cargarán los datos propuestos por la cátedra y se hará un análisis inicial del dataframe.\n"
   ]
  },
  {
   "cell_type": "code",
   "execution_count": 1,
   "metadata": {},
   "outputs": [],
   "source": [
    "import pandas as pd\n",
    "import numpy as np\n",
    "import matplotlib.pyplot as plt\n",
    "import seaborn as sns\n",
    "\n",
    "%matplotlib inline\n",
    "\n",
    "plt.style.use('default')\n",
    "\n",
    "sns.set(style=\"whitegrid\") # seteando tipo de grid en seaborn\n",
    "\n",
    "pd.options.display.float_format = '{:20,.2f}'.format # suprimimos la notacion cientifica en los outputs\n",
    "\n",
    "import warnings\n",
    "warnings.filterwarnings('ignore')\n",
    "\n",
    "events = pd.read_csv('./data/events.csv')\n",
    "\n",
    "pd.set_option('display.max_columns', 51)"
   ]
  },
  {
   "cell_type": "code",
   "execution_count": 2,
   "metadata": {},
   "outputs": [
    {
     "data": {
      "text/plain": [
       "(1011288, 23)"
      ]
     },
     "execution_count": 2,
     "metadata": {},
     "output_type": "execute_result"
    }
   ],
   "source": [
    "# analizemos primero las dimensiones del data frame\n",
    "events.shape"
   ]
  },
  {
   "cell_type": "markdown",
   "metadata": {},
   "source": [
    "### Transformación de object a timestamp\n",
    "Para poder trabajar con las fechas y hacer un análisis en base a esto debemos transformar los object a tipo de dato fecha.\n"
   ]
  },
  {
   "cell_type": "code",
   "execution_count": 3,
   "metadata": {},
   "outputs": [],
   "source": [
    "events['timestamp'] = pd.to_datetime(events['timestamp'])"
   ]
  },
  {
   "cell_type": "markdown",
   "metadata": {},
   "source": [
    "Agregamos las columnas de año y mes"
   ]
  },
  {
   "cell_type": "code",
   "execution_count": 4,
   "metadata": {},
   "outputs": [
    {
     "ename": "KeyError",
     "evalue": "'week_year'",
     "output_type": "error",
     "traceback": [
      "\u001b[0;31m---------------------------------------------------------------------------\u001b[0m",
      "\u001b[0;31mKeyError\u001b[0m                                  Traceback (most recent call last)",
      "\u001b[0;32m<ipython-input-4-b7c8bec4a3b6>\u001b[0m in \u001b[0;36m<module>\u001b[0;34m()\u001b[0m\n\u001b[1;32m      1\u001b[0m \u001b[0;31m# Vemos algunos datos por las fechas\u001b[0m\u001b[0;34m\u001b[0m\u001b[0;34m\u001b[0m\u001b[0m\n\u001b[0;32m----> 2\u001b[0;31m \u001b[0mevents_count_per_week\u001b[0m \u001b[0;34m=\u001b[0m \u001b[0mevents\u001b[0m\u001b[0;34m[\u001b[0m\u001b[0;34m'week_year'\u001b[0m\u001b[0;34m]\u001b[0m\u001b[0;34m.\u001b[0m\u001b[0mvalue_counts\u001b[0m\u001b[0;34m(\u001b[0m\u001b[0;34m)\u001b[0m\u001b[0;34m\u001b[0m\u001b[0m\n\u001b[0m\u001b[1;32m      3\u001b[0m \u001b[0;31m# print(events['month'].value_counts()) Tenemos valores de enero a julio\u001b[0m\u001b[0;34m\u001b[0m\u001b[0;34m\u001b[0m\u001b[0m\n\u001b[1;32m      4\u001b[0m \u001b[0;31m# print(events['year'].value_counts()) Tenemos valores solo de 2018\u001b[0m\u001b[0;34m\u001b[0m\u001b[0;34m\u001b[0m\u001b[0m\n\u001b[1;32m      5\u001b[0m \u001b[0;31m# print(events['month_day'].value_counts())\u001b[0m\u001b[0;34m\u001b[0m\u001b[0;34m\u001b[0m\u001b[0m\n",
      "\u001b[0;32m/home/ariel/anaconda2/lib/python2.7/site-packages/pandas/core/frame.pyc\u001b[0m in \u001b[0;36m__getitem__\u001b[0;34m(self, key)\u001b[0m\n\u001b[1;32m   2683\u001b[0m             \u001b[0;32mreturn\u001b[0m \u001b[0mself\u001b[0m\u001b[0;34m.\u001b[0m\u001b[0m_getitem_multilevel\u001b[0m\u001b[0;34m(\u001b[0m\u001b[0mkey\u001b[0m\u001b[0;34m)\u001b[0m\u001b[0;34m\u001b[0m\u001b[0m\n\u001b[1;32m   2684\u001b[0m         \u001b[0;32melse\u001b[0m\u001b[0;34m:\u001b[0m\u001b[0;34m\u001b[0m\u001b[0m\n\u001b[0;32m-> 2685\u001b[0;31m             \u001b[0;32mreturn\u001b[0m \u001b[0mself\u001b[0m\u001b[0;34m.\u001b[0m\u001b[0m_getitem_column\u001b[0m\u001b[0;34m(\u001b[0m\u001b[0mkey\u001b[0m\u001b[0;34m)\u001b[0m\u001b[0;34m\u001b[0m\u001b[0m\n\u001b[0m\u001b[1;32m   2686\u001b[0m \u001b[0;34m\u001b[0m\u001b[0m\n\u001b[1;32m   2687\u001b[0m     \u001b[0;32mdef\u001b[0m \u001b[0m_getitem_column\u001b[0m\u001b[0;34m(\u001b[0m\u001b[0mself\u001b[0m\u001b[0;34m,\u001b[0m \u001b[0mkey\u001b[0m\u001b[0;34m)\u001b[0m\u001b[0;34m:\u001b[0m\u001b[0;34m\u001b[0m\u001b[0m\n",
      "\u001b[0;32m/home/ariel/anaconda2/lib/python2.7/site-packages/pandas/core/frame.pyc\u001b[0m in \u001b[0;36m_getitem_column\u001b[0;34m(self, key)\u001b[0m\n\u001b[1;32m   2690\u001b[0m         \u001b[0;31m# get column\u001b[0m\u001b[0;34m\u001b[0m\u001b[0;34m\u001b[0m\u001b[0m\n\u001b[1;32m   2691\u001b[0m         \u001b[0;32mif\u001b[0m \u001b[0mself\u001b[0m\u001b[0;34m.\u001b[0m\u001b[0mcolumns\u001b[0m\u001b[0;34m.\u001b[0m\u001b[0mis_unique\u001b[0m\u001b[0;34m:\u001b[0m\u001b[0;34m\u001b[0m\u001b[0m\n\u001b[0;32m-> 2692\u001b[0;31m             \u001b[0;32mreturn\u001b[0m \u001b[0mself\u001b[0m\u001b[0;34m.\u001b[0m\u001b[0m_get_item_cache\u001b[0m\u001b[0;34m(\u001b[0m\u001b[0mkey\u001b[0m\u001b[0;34m)\u001b[0m\u001b[0;34m\u001b[0m\u001b[0m\n\u001b[0m\u001b[1;32m   2693\u001b[0m \u001b[0;34m\u001b[0m\u001b[0m\n\u001b[1;32m   2694\u001b[0m         \u001b[0;31m# duplicate columns & possible reduce dimensionality\u001b[0m\u001b[0;34m\u001b[0m\u001b[0;34m\u001b[0m\u001b[0m\n",
      "\u001b[0;32m/home/ariel/anaconda2/lib/python2.7/site-packages/pandas/core/generic.pyc\u001b[0m in \u001b[0;36m_get_item_cache\u001b[0;34m(self, item)\u001b[0m\n\u001b[1;32m   2484\u001b[0m         \u001b[0mres\u001b[0m \u001b[0;34m=\u001b[0m \u001b[0mcache\u001b[0m\u001b[0;34m.\u001b[0m\u001b[0mget\u001b[0m\u001b[0;34m(\u001b[0m\u001b[0mitem\u001b[0m\u001b[0;34m)\u001b[0m\u001b[0;34m\u001b[0m\u001b[0m\n\u001b[1;32m   2485\u001b[0m         \u001b[0;32mif\u001b[0m \u001b[0mres\u001b[0m \u001b[0;32mis\u001b[0m \u001b[0mNone\u001b[0m\u001b[0;34m:\u001b[0m\u001b[0;34m\u001b[0m\u001b[0m\n\u001b[0;32m-> 2486\u001b[0;31m             \u001b[0mvalues\u001b[0m \u001b[0;34m=\u001b[0m \u001b[0mself\u001b[0m\u001b[0;34m.\u001b[0m\u001b[0m_data\u001b[0m\u001b[0;34m.\u001b[0m\u001b[0mget\u001b[0m\u001b[0;34m(\u001b[0m\u001b[0mitem\u001b[0m\u001b[0;34m)\u001b[0m\u001b[0;34m\u001b[0m\u001b[0m\n\u001b[0m\u001b[1;32m   2487\u001b[0m             \u001b[0mres\u001b[0m \u001b[0;34m=\u001b[0m \u001b[0mself\u001b[0m\u001b[0;34m.\u001b[0m\u001b[0m_box_item_values\u001b[0m\u001b[0;34m(\u001b[0m\u001b[0mitem\u001b[0m\u001b[0;34m,\u001b[0m \u001b[0mvalues\u001b[0m\u001b[0;34m)\u001b[0m\u001b[0;34m\u001b[0m\u001b[0m\n\u001b[1;32m   2488\u001b[0m             \u001b[0mcache\u001b[0m\u001b[0;34m[\u001b[0m\u001b[0mitem\u001b[0m\u001b[0;34m]\u001b[0m \u001b[0;34m=\u001b[0m \u001b[0mres\u001b[0m\u001b[0;34m\u001b[0m\u001b[0m\n",
      "\u001b[0;32m/home/ariel/anaconda2/lib/python2.7/site-packages/pandas/core/internals.pyc\u001b[0m in \u001b[0;36mget\u001b[0;34m(self, item, fastpath)\u001b[0m\n\u001b[1;32m   4113\u001b[0m \u001b[0;34m\u001b[0m\u001b[0m\n\u001b[1;32m   4114\u001b[0m             \u001b[0;32mif\u001b[0m \u001b[0;32mnot\u001b[0m \u001b[0misna\u001b[0m\u001b[0;34m(\u001b[0m\u001b[0mitem\u001b[0m\u001b[0;34m)\u001b[0m\u001b[0;34m:\u001b[0m\u001b[0;34m\u001b[0m\u001b[0m\n\u001b[0;32m-> 4115\u001b[0;31m                 \u001b[0mloc\u001b[0m \u001b[0;34m=\u001b[0m \u001b[0mself\u001b[0m\u001b[0;34m.\u001b[0m\u001b[0mitems\u001b[0m\u001b[0;34m.\u001b[0m\u001b[0mget_loc\u001b[0m\u001b[0;34m(\u001b[0m\u001b[0mitem\u001b[0m\u001b[0;34m)\u001b[0m\u001b[0;34m\u001b[0m\u001b[0m\n\u001b[0m\u001b[1;32m   4116\u001b[0m             \u001b[0;32melse\u001b[0m\u001b[0;34m:\u001b[0m\u001b[0;34m\u001b[0m\u001b[0m\n\u001b[1;32m   4117\u001b[0m                 \u001b[0mindexer\u001b[0m \u001b[0;34m=\u001b[0m \u001b[0mnp\u001b[0m\u001b[0;34m.\u001b[0m\u001b[0marange\u001b[0m\u001b[0;34m(\u001b[0m\u001b[0mlen\u001b[0m\u001b[0;34m(\u001b[0m\u001b[0mself\u001b[0m\u001b[0;34m.\u001b[0m\u001b[0mitems\u001b[0m\u001b[0;34m)\u001b[0m\u001b[0;34m)\u001b[0m\u001b[0;34m[\u001b[0m\u001b[0misna\u001b[0m\u001b[0;34m(\u001b[0m\u001b[0mself\u001b[0m\u001b[0;34m.\u001b[0m\u001b[0mitems\u001b[0m\u001b[0;34m)\u001b[0m\u001b[0;34m]\u001b[0m\u001b[0;34m\u001b[0m\u001b[0m\n",
      "\u001b[0;32m/home/ariel/anaconda2/lib/python2.7/site-packages/pandas/core/indexes/base.pyc\u001b[0m in \u001b[0;36mget_loc\u001b[0;34m(self, key, method, tolerance)\u001b[0m\n\u001b[1;32m   3063\u001b[0m                 \u001b[0;32mreturn\u001b[0m \u001b[0mself\u001b[0m\u001b[0;34m.\u001b[0m\u001b[0m_engine\u001b[0m\u001b[0;34m.\u001b[0m\u001b[0mget_loc\u001b[0m\u001b[0;34m(\u001b[0m\u001b[0mkey\u001b[0m\u001b[0;34m)\u001b[0m\u001b[0;34m\u001b[0m\u001b[0m\n\u001b[1;32m   3064\u001b[0m             \u001b[0;32mexcept\u001b[0m \u001b[0mKeyError\u001b[0m\u001b[0;34m:\u001b[0m\u001b[0;34m\u001b[0m\u001b[0m\n\u001b[0;32m-> 3065\u001b[0;31m                 \u001b[0;32mreturn\u001b[0m \u001b[0mself\u001b[0m\u001b[0;34m.\u001b[0m\u001b[0m_engine\u001b[0m\u001b[0;34m.\u001b[0m\u001b[0mget_loc\u001b[0m\u001b[0;34m(\u001b[0m\u001b[0mself\u001b[0m\u001b[0;34m.\u001b[0m\u001b[0m_maybe_cast_indexer\u001b[0m\u001b[0;34m(\u001b[0m\u001b[0mkey\u001b[0m\u001b[0;34m)\u001b[0m\u001b[0;34m)\u001b[0m\u001b[0;34m\u001b[0m\u001b[0m\n\u001b[0m\u001b[1;32m   3066\u001b[0m \u001b[0;34m\u001b[0m\u001b[0m\n\u001b[1;32m   3067\u001b[0m         \u001b[0mindexer\u001b[0m \u001b[0;34m=\u001b[0m \u001b[0mself\u001b[0m\u001b[0;34m.\u001b[0m\u001b[0mget_indexer\u001b[0m\u001b[0;34m(\u001b[0m\u001b[0;34m[\u001b[0m\u001b[0mkey\u001b[0m\u001b[0;34m]\u001b[0m\u001b[0;34m,\u001b[0m \u001b[0mmethod\u001b[0m\u001b[0;34m=\u001b[0m\u001b[0mmethod\u001b[0m\u001b[0;34m,\u001b[0m \u001b[0mtolerance\u001b[0m\u001b[0;34m=\u001b[0m\u001b[0mtolerance\u001b[0m\u001b[0;34m)\u001b[0m\u001b[0;34m\u001b[0m\u001b[0m\n",
      "\u001b[0;32mpandas/_libs/index.pyx\u001b[0m in \u001b[0;36mpandas._libs.index.IndexEngine.get_loc\u001b[0;34m()\u001b[0m\n",
      "\u001b[0;32mpandas/_libs/index.pyx\u001b[0m in \u001b[0;36mpandas._libs.index.IndexEngine.get_loc\u001b[0;34m()\u001b[0m\n",
      "\u001b[0;32mpandas/_libs/hashtable_class_helper.pxi\u001b[0m in \u001b[0;36mpandas._libs.hashtable.PyObjectHashTable.get_item\u001b[0;34m()\u001b[0m\n",
      "\u001b[0;32mpandas/_libs/hashtable_class_helper.pxi\u001b[0m in \u001b[0;36mpandas._libs.hashtable.PyObjectHashTable.get_item\u001b[0;34m()\u001b[0m\n",
      "\u001b[0;31mKeyError\u001b[0m: 'week_year'"
     ]
    }
   ],
   "source": [
    "# Vemos algunos datos por las fechas\n",
    "events_count_per_week = events['week_year'].value_counts()\n",
    "# print(events['month'].value_counts()) Tenemos valores de enero a julio\n",
    "# print(events['year'].value_counts()) Tenemos valores solo de 2018\n",
    "# print(events['month_day'].value_counts())\n",
    "# print(events['day_week'].value_counts())\n",
    "events_count_per_week.sort_values(axis=0, ascending=True)\n",
    "events_count_per_week = events_count_per_week.to_frame()\n",
    "events_count_per_week['week'] = events_count_per_week.index\n",
    "# print(events_count_per_week) Sin ordenar aun\n",
    "# print(events['year_day'].value_counts())\n",
    "# Ordenamos por semana del anio\n",
    "events_count_per_week.sort_values(by='week', inplace=True)\n",
    "print(events_count_per_week)\n"
   ]
  },
  {
   "cell_type": "code",
   "execution_count": null,
   "metadata": {},
   "outputs": [],
   "source": [
    "# Sacamos los datos de la ultima semana ya que posiblemente no tengamos informacion de la semana completa\n",
    "events_count_per_week = events_count_per_week.loc[events_count_per_week['week'] != 24]\n",
    "# print(events_count_per_week)"
   ]
  },
  {
   "cell_type": "markdown",
   "metadata": {},
   "source": [
    "Como podemos observar tenemos solo datos del año 2018 desde enero hasta junio. Tambien podemos ver que los usuarios suelen acceder a mas a TROCAFONE los dias de semana. \n",
    "A continuacion podemos ver como aumento la frecuencia de eventos a medida que avanzo el anio"
   ]
  },
  {
   "cell_type": "code",
   "execution_count": null,
   "metadata": {},
   "outputs": [],
   "source": [
    "plot_events_per_week = events_count_per_week[['week_year']].plot.line()\n",
    "plot_events_per_week.set_title(\"Cantidad de eventos segun la semana del anio\", fontsize=18)\n",
    "plot_events_per_week.set_xlabel(\"Semana\")\n",
    "plot_events_per_week.set_ylabel(\"Cantidad\")\n"
   ]
  },
  {
   "cell_type": "code",
   "execution_count": null,
   "metadata": {},
   "outputs": [],
   "source": [
    "events['device_type'].value_counts()"
   ]
  },
  {
   "cell_type": "code",
   "execution_count": null,
   "metadata": {},
   "outputs": [],
   "source": [
    "# Seleccionamos los eventos de sitio visitado\n",
    "visited_site = events.loc[events['event'] == 'visited site' , : ]\n",
    "visited_site.info()"
   ]
  },
  {
   "cell_type": "code",
   "execution_count": null,
   "metadata": {},
   "outputs": [],
   "source": [
    "# Vemos cuanta proporcion hay de new y returning\n",
    "new_vs_returning_count = visited_site['new_vs_returning'].value_counts()\n",
    "print(new_vs_returning_count)"
   ]
  },
  {
   "cell_type": "code",
   "execution_count": null,
   "metadata": {},
   "outputs": [],
   "source": [
    "plot_new_vs_returning_counts = new_vs_returning_count.plot.bar()\n",
    "plot_new_vs_returning_counts.set_title(\"Cantidad de usuarios que generaron un evento de new y de returning\", fontsize=18)\n",
    "plot_new_vs_returning_counts.set_xlabel(\"Tipo de visita al sitio\")\n",
    "plot_new_vs_returning_counts.set_ylabel(\"Cantidad\")"
   ]
  },
  {
   "cell_type": "code",
   "execution_count": null,
   "metadata": {},
   "outputs": [],
   "source": [
    "# Queremos ver en que tipo de dispositivo acceden por primera vez los usuarios\n",
    "news_visited_site = visited_site.loc[visited_site['new_vs_returning'] == 'New' , : ]\n",
    "returning_visited_site = visited_site.loc[visited_site['new_vs_returning'] == 'Returning' , : ]\n",
    "news_visited_site.head()"
   ]
  },
  {
   "cell_type": "code",
   "execution_count": null,
   "metadata": {},
   "outputs": [],
   "source": [
    "# Vemos los distintos tipos de accesos por primera vez\n",
    "news_visited_site['device_type'].value_counts(normalize=True)"
   ]
  },
  {
   "cell_type": "markdown",
   "metadata": {},
   "source": [
    "De aqui podemos observar que la primera vez que acceden los usuarios a trocafone es casi igual de parejo entre computadoras de escritorio y celulares."
   ]
  },
  {
   "cell_type": "markdown",
   "metadata": {},
   "source": [
    "Veamos que sucede si vemos el tipo de dispositivo con el que vuelven los usuarios a la plataforma"
   ]
  },
  {
   "cell_type": "code",
   "execution_count": null,
   "metadata": {},
   "outputs": [],
   "source": [
    "# Vemos los distintos tipos de accesos en los eventos de visita\n",
    "returning_visited_site['device_type'].value_counts(normalize=True)"
   ]
  },
  {
   "cell_type": "markdown",
   "metadata": {},
   "source": [
    "**Conclusion**: de estos datos inducimos que la experiencia del usuario en la plataforma es igual de buena tanto en mobile como en desktop"
   ]
  },
  {
   "cell_type": "code",
   "execution_count": null,
   "metadata": {},
   "outputs": [],
   "source": [
    "visited_site['country'].value_counts()"
   ]
  },
  {
   "cell_type": "code",
   "execution_count": null,
   "metadata": {},
   "outputs": [],
   "source": [
    "len(visited_site)"
   ]
  },
  {
   "cell_type": "code",
   "execution_count": null,
   "metadata": {},
   "outputs": [],
   "source": [
    "visited_site.dropna(axis='columns', inplace=True)\n",
    "\n",
    "# Categorizamos las regiones geograficamente\n",
    "visited_site['geo_region'] = np.nan\n",
    "\n",
    "visited_site.loc[\n",
    "    (visited_site['region'] == 'Sao Paulo') |\n",
    "    (visited_site['region'] == 'Rio de Janeiro') |\n",
    "    (visited_site['region'] == 'Minas Gerais') |\n",
    "    (visited_site['region'] == 'Espirito Santo'), \n",
    "    'geo_region'\n",
    "] = 'southeast'\n",
    "\n",
    "visited_site.loc[\n",
    "    (visited_site['region'] == 'Parana') |\n",
    "    (visited_site['region'] == 'Rio Grande do Sul') |\n",
    "    (visited_site['region'] == 'Santa Catarina'), \n",
    "    'geo_region'\n",
    "] = 'south'\n",
    "\n",
    "visited_site.loc[\n",
    "    (visited_site['region'] == 'Federal District') |\n",
    "    (visited_site['region'] == 'Goias') |\n",
    "    (visited_site['region'] == 'Mato Grosso do Sul') |\n",
    "    (visited_site['region'] == 'Mato Grosso'), \n",
    "    'geo_region'\n",
    "] = 'center west'\n",
    "\n",
    "visited_site.loc[\n",
    "    (visited_site['region'] == 'Bahia') |\n",
    "    (visited_site['region'] == 'Pernambuco') |\n",
    "    (visited_site['region'] == 'Ceara') |\n",
    "    (visited_site['region'] == 'Maranhao') |\n",
    "    (visited_site['region'] == 'Rio Grande do Norte') |\n",
    "    (visited_site['region'] == 'Paraíba') |\n",
    "    (visited_site['region'] == 'Piaui') |\n",
    "    (visited_site['region'] == 'Alagoas') |\n",
    "    (visited_site['region'] == 'Sergipe'), \n",
    "    'geo_region'\n",
    "] = 'northeast'\n",
    "\n",
    "visited_site.loc[\n",
    "    (visited_site['region'] == 'Para') |\n",
    "    (visited_site['region'] == 'Amazonas') |\n",
    "    (visited_site['region'] == 'Tocantins') |\n",
    "    (visited_site['region'] == 'Amapa') |\n",
    "    (visited_site['region'] == 'Rondonia') |\n",
    "    (visited_site['region'] == 'Acre') |\n",
    "    (visited_site['region'] == 'Roraima'), \n",
    "    'geo_region'\n",
    "] = 'north'"
   ]
  },
  {
   "cell_type": "code",
   "execution_count": null,
   "metadata": {},
   "outputs": [],
   "source": [
    "visited_site_brazil = visited_site.loc[visited_site['country'] == 'Brazil']\n",
    "\n",
    "\n",
    "cities = visited_site_brazil['city'].value_counts()\n",
    "regions = visited_site_brazil['region'].value_counts()\n",
    "countries = visited_site_brazil['country'].value_counts()\n",
    "geo_region = visited_site_brazil['geo_region'].value_counts(normalize=True)\n",
    "# print regions\n",
    "# print countries\n",
    "print geo_region\n",
    "visited_site_brazil['geo_region'].count()\n"
   ]
  },
  {
   "cell_type": "code",
   "execution_count": null,
   "metadata": {
    "scrolled": true
   },
   "outputs": [],
   "source": [
    "bar_regions_plot = regions.plot.bar(figsize=(20, 15), fontsize=40)\n",
    "bar_regions_plot.set_title(\"Cantidad de eventos segun la region de Brasil\", fontsize=70)\n",
    "bar_regions_plot.set_xlabel(\"Region de Brasil\", fontsize=50)\n",
    "bar_regions_plot.set_ylabel(\"Cantidad\", fontsize=50)\n",
    "bar_regions_plot.get_figure().savefig('visited_per_region')"
   ]
  },
  {
   "cell_type": "code",
   "execution_count": null,
   "metadata": {},
   "outputs": [],
   "source": [
    "bar_geo_regions_plot = geo_region.plot.bar(figsize=(40, 25), fontsize=40, color=['#CC0000', '#1D97E9', '#DBC742', '#990099', '#00994C'])\n",
    "bar_geo_regions_plot.set_title(\"Cantidad de eventos segun la region geografica de Brasil\", fontsize=70)\n",
    "bar_geo_regions_plot.set_xlabel(\"Region geografica de Brasil\", fontsize=50)\n",
    "bar_geo_regions_plot.set_ylabel(\"Cantidad\", fontsize=50)\n",
    "bar_geo_regions_plot.get_figure().savefig('visited_per_geo_region')"
   ]
  },
  {
   "cell_type": "code",
   "execution_count": null,
   "metadata": {},
   "outputs": [],
   "source": [
    "# Distintos tipos de dispositivos\n",
    "visited_site_brazil['device_type'].value_counts()"
   ]
  },
  {
   "cell_type": "code",
   "execution_count": null,
   "metadata": {},
   "outputs": [],
   "source": [
    "def reduceColumnLevel(df):\n",
    "    l0 = df.columns.get_level_values(0)\n",
    "    l1 = df.columns.get_level_values(1)\n",
    "    df.columns = l0 + '_' + l1\n",
    "    return df"
   ]
  },
  {
   "cell_type": "code",
   "execution_count": null,
   "metadata": {},
   "outputs": [],
   "source": [
    "visited_site_brazil_computer_or_smarthpone = visited_site_brazil.loc[(visited_site_brazil['device_type'] == 'Computer') | (visited_site_brazil['device_type'] == 'Smartphone')]"
   ]
  },
  {
   "cell_type": "code",
   "execution_count": null,
   "metadata": {},
   "outputs": [],
   "source": [
    "new_per_dispositive = visited_site_brazil_computer_or_smarthpone.loc[visited_site_brazil_computer_or_smarthpone['new_vs_returning'] == 'New']"
   ]
  },
  {
   "cell_type": "code",
   "execution_count": null,
   "metadata": {},
   "outputs": [],
   "source": [
    "count_new_dispositive = new_per_dispositive['device_type'].value_counts(normalize=True)\n",
    "plot_count_new_dispositive = count_new_dispositive.plot.bar(figsize=(10, 10), fontsize=15, color=['b', 'g'])\n",
    "plot_count_new_dispositive.set_title(\"Cantidad de usuarios que entraron por primera vez al sitio segun su dispositivo\", fontsize=20)\n",
    "plot_count_new_dispositive.set_xlabel(\"Dispositivo\", fontsize=20)\n",
    "plot_count_new_dispositive.set_ylabel(\"Cantidad\", fontsize=20)"
   ]
  },
  {
   "cell_type": "code",
   "execution_count": null,
   "metadata": {},
   "outputs": [],
   "source": [
    "returning_per_dispositive = visited_site_brazil_computer_or_smarthpone.loc[visited_site_brazil_computer_or_smarthpone['new_vs_returning'] == 'Returning']"
   ]
  },
  {
   "cell_type": "code",
   "execution_count": null,
   "metadata": {},
   "outputs": [],
   "source": [
    "returning_per_dispositive['device_type'].value_counts(normalize=True)\n",
    "count_ret_dispositive = returning_per_dispositive['device_type'].value_counts(normalize=True)\n",
    "plot_count_ret_dispositive = count_ret_dispositive.plot.bar(figsize=(10, 10), fontsize=15, color=['b', 'g'])\n",
    "plot_count_ret_dispositive.set_title(\"Cantidad de usuarios que regresaron al sitio segun su dispositivo\", fontsize=20)\n",
    "plot_count_ret_dispositive.set_xlabel(\"Dispositivo\", fontsize=20)\n",
    "plot_count_ret_dispositive.set_ylabel(\"Cantidad\", fontsize=20)"
   ]
  },
  {
   "cell_type": "code",
   "execution_count": null,
   "metadata": {},
   "outputs": [],
   "source": [
    "devices_per_region = visited_site_brazil_computer_or_smarthpone.groupby(['geo_region', 'device_type']).agg({'event': ['count']})\n",
    "devices_per_region.head(20)"
   ]
  },
  {
   "cell_type": "code",
   "execution_count": null,
   "metadata": {},
   "outputs": [],
   "source": [
    "devices_per_region = reduceColumnLevel(devices_per_region)\n",
    "devices_per_region.head(20)"
   ]
  },
  {
   "cell_type": "code",
   "execution_count": null,
   "metadata": {},
   "outputs": [],
   "source": [
    "devices_per_region.unstack()"
   ]
  },
  {
   "cell_type": "code",
   "execution_count": null,
   "metadata": {},
   "outputs": [],
   "source": [
    "devices_per_region_pivot = devices_per_region.pivot_table(index='geo_region', columns='device_type', values='event_count')\n",
    "devices_per_region_pivot = devices_per_region_pivot.sort_values(by='Computer', ascending=False)\n",
    "devices_per_region_pivot"
   ]
  },
  {
   "cell_type": "code",
   "execution_count": null,
   "metadata": {},
   "outputs": [],
   "source": [
    "plot_devices_per_geo_region = devices_per_region_pivot.plot.bar(\n",
    "    figsize=(10, 10), \n",
    "    fontsize=15,\n",
    "    color=['g', 'b']\n",
    ")\n",
    "plot_devices_per_geo_region.set_title(\"Dispositivo segun region geografica\", fontsize=20)\n",
    "plot_devices_per_geo_region.set_xlabel(\"Dispositivo\", fontsize=20)\n",
    "plot_devices_per_geo_region.set_ylabel(\"Cantidad de accesos\", fontsize=20)"
   ]
  },
  {
   "cell_type": "code",
   "execution_count": null,
   "metadata": {},
   "outputs": [],
   "source": [
    "def filterVisitedSitesByGeoRegion(df, region):\n",
    "    return df.loc[df['geo_region'] == region]"
   ]
  },
  {
   "cell_type": "code",
   "execution_count": null,
   "metadata": {},
   "outputs": [],
   "source": [
    "def getWeekendVisites(df):\n",
    "    return df.loc[df['is_weekend'] == True]"
   ]
  },
  {
   "cell_type": "code",
   "execution_count": null,
   "metadata": {},
   "outputs": [],
   "source": [
    "def getWeekdaysVisites(df):\n",
    "    return df.loc[df['is_weekend'] == False]"
   ]
  },
  {
   "cell_type": "code",
   "execution_count": null,
   "metadata": {},
   "outputs": [],
   "source": [
    "# Accesos de los dispositivos segun la hora del dia en fin de semanas\n",
    "tmp = visited_site_brazil_computer_or_smarthpone\n",
    "visited_site_not_weekend = getWeekdaysVisites(tmp)\n",
    "visited_site_weekend = getWeekendVisites(tmp)\n",
    "devices_per_hour_on_weekend = visited_site_weekend.groupby(['hour', 'device_type']).agg({'event': ['count']})\n",
    "devices_per_hour_on_weekend.head(10)"
   ]
  },
  {
   "cell_type": "code",
   "execution_count": null,
   "metadata": {},
   "outputs": [],
   "source": []
  },
  {
   "cell_type": "code",
   "execution_count": null,
   "metadata": {},
   "outputs": [],
   "source": [
    "devices_per_hour_not_weekend = visited_site_not_weekend.groupby(['hour', 'device_type']).agg({'event': ['count']})\n",
    "devices_per_hour_not_weekend.head(0)\n",
    "# devices_per_hour_not_weekend.index"
   ]
  },
  {
   "cell_type": "code",
   "execution_count": null,
   "metadata": {},
   "outputs": [],
   "source": [
    "def plotEventCountByDevicePerHour(df, figsize=(8,8), fontsize=20):\n",
    "    l0 = df.columns.get_level_values(0)\n",
    "    l1 = df.columns.get_level_values(1)\n",
    "    df.columns = l0 + '_' + l1\n",
    "    unstacked = df.unstack()\n",
    "    l0 = unstacked.columns.get_level_values(0)\n",
    "    l1 = unstacked.columns.get_level_values(1)\n",
    "    unstacked.columns = l0 + '_' + l1\n",
    "    df_new = pd.DataFrame({\n",
    "        'Computer': unstacked['event_count_Computer'],\n",
    "        'Smartphone': unstacked['event_count_Smartphone'],\n",
    "        }, \n",
    "        index=unstacked.index)\n",
    "    plot = df_new.plot.line(figsize=figsize, fontsize=fontsize, color=['g', 'b'])\n",
    "    # plot.legend(prop={'size': 5})\n",
    "    return plot"
   ]
  },
  {
   "cell_type": "code",
   "execution_count": null,
   "metadata": {},
   "outputs": [],
   "source": [
    "plot_on_weekdays = plotEventCountByDevicePerHour(devices_per_hour_not_weekend, figsize=(20,20))\n",
    "plot_on_weekdays.set_xlim(0, 23)\n",
    "plot_on_weekdays.set_xlabel('Hora', fontsize=30)\n",
    "plot_on_weekdays.set_ylabel('Cantidad de visitas', fontsize=30)\n",
    "plot_on_weekdays.set_title('Cantidad de visitas segun el dispositivo en cada hora del dia (lunes a viernes)', fontsize=30)"
   ]
  },
  {
   "cell_type": "code",
   "execution_count": null,
   "metadata": {},
   "outputs": [],
   "source": [
    "plot_on_weekend = plotEventCountByDevicePerHour(devices_per_hour_on_weekend)\n",
    "plot_on_weekend.set_xlim(0, 23)\n",
    "plot_on_weekend.set_xlabel('Hora', fontsize=30)\n",
    "plot_on_weekend.set_ylabel('Cantidad de visitas', fontsize=30)\n",
    "plot_on_weekend.set_title('Cantidad de visitas segun el dispositivo en cada hora del dia (fin de semana)', fontsize=30)"
   ]
  },
  {
   "cell_type": "markdown",
   "metadata": {},
   "source": [
    "# Analisis de visitas segun horario particularizando en region\n",
    "Ahora analizaremos las visitas segun el horario para los distintas regiones geograficas que se definieron previamente.\n",
    "\n",
    "```\n",
    "                        event_count\n",
    "geo_region\tdevice_type\t\n",
    "\n",
    "center west\tComputer\t2526\n",
    "            Smartphone\t1828\n",
    "            \n",
    "north\t    Computer\t1632\n",
    "            Smartphone\t1476\n",
    "            \n",
    "northeast\tComputer\t7766\n",
    "            Smartphone\t8619\n",
    "            \n",
    "south\t    Computer\t3737\n",
    "            Smartphone\t2857\n",
    "            \n",
    "southeast\tComputer\t18884\n",
    "            Smartphone\t21386\n",
    "```"
   ]
  },
  {
   "cell_type": "code",
   "execution_count": null,
   "metadata": {},
   "outputs": [],
   "source": [
    "tmp = visited_site_brazil_computer_or_smarthpone\n",
    "\n",
    "center_west = filterVisitedSitesByGeoRegion(tmp, 'center west')\n",
    "north = filterVisitedSitesByGeoRegion(tmp, 'north')\n",
    "northeast = filterVisitedSitesByGeoRegion(tmp, 'northeast')\n",
    "south = filterVisitedSitesByGeoRegion(tmp, 'south')\n",
    "southeast = filterVisitedSitesByGeoRegion(tmp, 'southeast')\n",
    "\n",
    "# Filtamos por dia de seamana y fin de semana\n",
    "center_west_weekdays = getWeekdaysVisites(center_west)\n",
    "center_west_weekend = getWeekendVisites(center_west)\n",
    "\n",
    "north_weekdays = getWeekdaysVisites(north)\n",
    "north_weekend = getWeekendVisites(north)\n",
    "\n",
    "northeast_weekdays = getWeekdaysVisites(northeast)\n",
    "northeast_weekend = getWeekendVisites(northeast)\n",
    "\n",
    "south_weekdays = getWeekdaysVisites(center_west)\n",
    "south_weekend = getWeekendVisites(center_west)\n",
    "\n",
    "southeast_weekdays = getWeekdaysVisites(southeast)\n",
    "southeast_weekend = getWeekendVisites(southeast)\n",
    "\n",
    "# Agrupamos\n",
    "cw_group_wd = center_west_weekdays.groupby(['hour', 'device_type']).agg({'event': ['count']})\n",
    "cw_group_we = center_west_weekend.groupby(['hour', 'device_type']).agg({'event': ['count']})\n",
    "\n",
    "n_group_wd = north_weekdays.groupby(['hour', 'device_type']).agg({'event': ['count']})\n",
    "n_group_we = north_weekend.groupby(['hour', 'device_type']).agg({'event': ['count']})\n",
    "\n",
    "ne_group_wd = northeast_weekdays.groupby(['hour', 'device_type']).agg({'event': ['count']})\n",
    "ne_group_we = northeast_weekend.groupby(['hour', 'device_type']).agg({'event': ['count']})\n",
    "\n",
    "s_group_wd = south_weekdays.groupby(['hour', 'device_type']).agg({'event': ['count']})\n",
    "s_group_we = south_weekend.groupby(['hour', 'device_type']).agg({'event': ['count']})\n",
    "\n",
    "se_group_wd = southeast_weekdays.groupby(['hour', 'device_type']).agg({'event': ['count']})\n",
    "se_group_we = southeast_weekend.groupby(['hour', 'device_type']).agg({'event': ['count']})\n",
    "\n"
   ]
  },
  {
   "cell_type": "code",
   "execution_count": null,
   "metadata": {},
   "outputs": [],
   "source": [
    "# Plot center west\n",
    "p_cw_wd = plotEventCountByDevicePerHour(cw_group_wd)\n",
    "p_cw_wd.set_xlim(0,23)\n",
    "p_cw_wd.set_xlabel('Hora', fontsize=30)\n",
    "p_cw_wd.set_ylabel('Cantidad de visitas', fontsize=30)\n",
    "p_cw_wd.set_title('Dias de semana en el centro oeste', fontsize=30)\n",
    "\n",
    "p_cw_we = plotEventCountByDevicePerHour(cw_group_we)\n",
    "p_cw_we.set_xlim(0,23)\n",
    "p_cw_we.set_xlabel('Hora', fontsize=30)\n",
    "p_cw_we.set_ylabel('Cantidad de visitas', fontsize=30)\n",
    "p_cw_we.set_title('Fin de semana en el centro oeste', fontsize=30)"
   ]
  },
  {
   "cell_type": "code",
   "execution_count": null,
   "metadata": {},
   "outputs": [],
   "source": [
    "# Plot north\n",
    "p_n_wd = plotEventCountByDevicePerHour(n_group_wd)\n",
    "p_n_wd.set_xlim(0,23)\n",
    "p_n_wd.set_xlabel('Hora', fontsize=30)\n",
    "p_n_wd.set_ylabel('Cantidad de visitas', fontsize=30)\n",
    "p_n_wd.set_title('Dias de semana en el norte', fontsize=30)\n",
    "\n",
    "p_n_we = plotEventCountByDevicePerHour(n_group_we)\n",
    "p_n_we.set_xlim(0,23)\n",
    "p_n_we.set_xlabel('Hora', fontsize=30)\n",
    "p_n_we.set_ylabel('Cantidad de visitas', fontsize=30)\n",
    "p_n_we.set_title('Fin de semana en el norte', fontsize=30)"
   ]
  },
  {
   "cell_type": "code",
   "execution_count": null,
   "metadata": {},
   "outputs": [],
   "source": [
    "# Plot northeast\n",
    "p_ne_wd = plotEventCountByDevicePerHour(ne_group_wd)\n",
    "p_ne_wd.set_xlim(0,23)\n",
    "p_ne_wd.set_xlabel('Hora', fontsize=30)\n",
    "p_ne_wd.set_ylabel('Cantidad de visitas', fontsize=30)\n",
    "p_ne_wd.set_title('Dias de semana en el noreste', fontsize=30)\n",
    "\n",
    "p_ne_we = plotEventCountByDevicePerHour(ne_group_we)\n",
    "p_ne_we.set_xlim(0,23)\n",
    "p_ne_we.set_xlabel('Hora', fontsize=30)\n",
    "p_ne_we.set_ylabel('Cantidad de visitas', fontsize=30)\n",
    "p_ne_we.set_title('Fin de semana en el noreste', fontsize=30)"
   ]
  },
  {
   "cell_type": "code",
   "execution_count": null,
   "metadata": {},
   "outputs": [],
   "source": [
    "# Plot south\n",
    "p_s_wd = plotEventCountByDevicePerHour(s_group_wd)\n",
    "p_s_wd.set_xlim(0,23)\n",
    "p_s_wd.set_xlabel('Hora', fontsize=30)\n",
    "p_s_wd.set_ylabel('Cantidad de visitas', fontsize=30)\n",
    "p_s_wd.set_title('Dias de semana en el sur', fontsize=30)\n",
    "\n",
    "p_s_we = plotEventCountByDevicePerHour(s_group_we)\n",
    "p_s_we.set_xlim(0,23)\n",
    "p_s_we.set_xlabel('Hora', fontsize=30)\n",
    "p_s_we.set_ylabel('Cantidad de visitas', fontsize=30)\n",
    "p_s_we.set_title('Fin de semana en el sur', fontsize=30)"
   ]
  },
  {
   "cell_type": "code",
   "execution_count": null,
   "metadata": {},
   "outputs": [],
   "source": [
    "# Plot southeast\n",
    "p_se_wd = plotEventCountByDevicePerHour(se_group_wd)\n",
    "p_se_wd.set_xlim(0,23)\n",
    "p_se_wd.set_xlabel('Hora', fontsize=30)\n",
    "p_se_wd.set_ylabel('Cantidad de visitas', fontsize=30)\n",
    "p_se_wd.set_title('Dias de semana en el sureste', fontsize=30)\n",
    "\n",
    "p_se_we = plotEventCountByDevicePerHour(se_group_we)\n",
    "p_se_we.set_xlim(0,23)\n",
    "p_se_we.set_xlabel('Hora', fontsize=30)\n",
    "p_se_we.set_ylabel('Cantidad de visitas', fontsize=30)\n",
    "p_se_we.set_title('Fin de semana en el sureste', fontsize=30)"
   ]
  }
 ],
 "metadata": {
  "kernelspec": {
   "display_name": "Python 2",
   "language": "python",
   "name": "python2"
  },
  "language_info": {
   "codemirror_mode": {
    "name": "ipython",
    "version": 2
   },
   "file_extension": ".py",
   "mimetype": "text/x-python",
   "name": "python",
   "nbconvert_exporter": "python",
   "pygments_lexer": "ipython2",
   "version": "2.7.15"
  }
 },
 "nbformat": 4,
 "nbformat_minor": 2
}
