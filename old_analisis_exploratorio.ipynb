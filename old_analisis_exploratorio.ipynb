{
 "cells": [
  {
   "cell_type": "markdown",
   "metadata": {},
   "source": [
    "# Trabajo Práctico N. ° 1: Análisis exploratorio de datos de TROCAFONE\n",
    "\n",
    "Primero se cargarán los datos propuestos por la cátedra y se hará un análisis inicial del dataframe.\n"
   ]
  },
  {
   "cell_type": "code",
   "execution_count": 1,
   "metadata": {},
   "outputs": [],
   "source": [
    "# importacion general de librerias \n",
    "# y de visualizacion (matplotlib y seaborn)\n",
    "import pandas as pd\n",
    "import numpy as np\n",
    "import matplotlib.pyplot as plt\n",
    "import seaborn as sns\n",
    "\n",
    "%matplotlib inline\n",
    "\n",
    "plt.style.use('default') # haciendo los graficos un poco mas bonitos en matplotlib\n",
    "#plt.rcParams['figure.figsize'] = (20, 10)\n",
    "\n",
    "sns.set(style=\"whitegrid\") # seteando tipo de grid en seaborn\n",
    "\n",
    "pd.options.display.float_format = '{:20,.2f}'.format # suprimimos la notacion cientifica en los outputs\n",
    "\n",
    "import warnings\n",
    "warnings.filterwarnings('ignore')\n",
    "\n",
    "events = pd.read_csv('./data/events.csv')\n",
    "\n",
    "pd.set_option('display.max_columns', 51)"
   ]
  },
  {
   "cell_type": "code",
   "execution_count": 2,
   "metadata": {},
   "outputs": [
    {
     "data": {
      "text/plain": [
       "(1011288, 23)"
      ]
     },
     "execution_count": 2,
     "metadata": {},
     "output_type": "execute_result"
    }
   ],
   "source": [
    "# analizemos primero las dimensiones del data frame\n",
    "events.shape"
   ]
  },
  {
   "cell_type": "code",
   "execution_count": 3,
   "metadata": {},
   "outputs": [
    {
     "name": "stdout",
     "output_type": "stream",
     "text": [
      "<class 'pandas.core.frame.DataFrame'>\n",
      "RangeIndex: 1011288 entries, 0 to 1011287\n",
      "Data columns (total 23 columns):\n",
      "timestamp                   1011288 non-null object\n",
      "event                       1011288 non-null object\n",
      "person                      1011288 non-null object\n",
      "url                         82756 non-null object\n",
      "sku                         563838 non-null object\n",
      "model                       564284 non-null object\n",
      "condition                   563836 non-null object\n",
      "storage                     563836 non-null object\n",
      "color                       563836 non-null object\n",
      "skus                        221699 non-null object\n",
      "search_term                 48967 non-null object\n",
      "staticpage                  3598 non-null object\n",
      "campaign_source             82796 non-null object\n",
      "search_engine               50957 non-null object\n",
      "channel                     87378 non-null object\n",
      "new_vs_returning            87378 non-null object\n",
      "city                        87378 non-null object\n",
      "region                      87378 non-null object\n",
      "country                     87378 non-null object\n",
      "device_type                 87378 non-null object\n",
      "screen_resolution           87378 non-null object\n",
      "operating_system_version    87378 non-null object\n",
      "browser_version             87378 non-null object\n",
      "dtypes: object(23)\n",
      "memory usage: 177.5+ MB\n"
     ]
    }
   ],
   "source": [
    "# veamos la informacion general del dataframe con info()\n",
    "events.info()"
   ]
  },
  {
   "cell_type": "code",
   "execution_count": 4,
   "metadata": {},
   "outputs": [
    {
     "data": {
      "text/plain": [
       "timestamp                   object\n",
       "event                       object\n",
       "person                      object\n",
       "url                         object\n",
       "sku                         object\n",
       "model                       object\n",
       "condition                   object\n",
       "storage                     object\n",
       "color                       object\n",
       "skus                        object\n",
       "search_term                 object\n",
       "staticpage                  object\n",
       "campaign_source             object\n",
       "search_engine               object\n",
       "channel                     object\n",
       "new_vs_returning            object\n",
       "city                        object\n",
       "region                      object\n",
       "country                     object\n",
       "device_type                 object\n",
       "screen_resolution           object\n",
       "operating_system_version    object\n",
       "browser_version             object\n",
       "dtype: object"
      ]
     },
     "execution_count": 4,
     "metadata": {},
     "output_type": "execute_result"
    }
   ],
   "source": [
    "# Vemos los tipos de datos\n",
    "events.dtypes"
   ]
  },
  {
   "cell_type": "markdown",
   "metadata": {},
   "source": [
    "Como se puede observar pandas al levantar los datos de TROCAFONE interpreta todos como object, incluso los timestamps. Tendremos que trabajar sobre los datos si queremos otro tipo de datos.\n",
    "\n",
    "A continuación se explica a qué corresponde cada columna según el enunciado:\n",
    "\n",
    "* **timestamp**: Fecha y hora cuando ocurrió el evento. (considerar BRT/ART).\n",
    "* **event**: Tipo de evento\n",
    "* **person**: Identificador de cliente que realizó el evento.\n",
    "* **url**: Url visitada por el usuario.\n",
    "* **sku**: Identificador de producto relacionado al evento.\n",
    "* **model**: Nombre descriptivo del producto incluyendo marca y modelo.\n",
    "* **condition**: Condición de venta del producto\n",
    "* **storage**: Cantidad de almacenamiento del producto.\n",
    "* **color**: Color del producto\n",
    "* **skus**: Identificadores de productos visualizados en el evento.\n",
    "* **search_term**: Términos de búsqueda utilizados en el evento.\n",
    "* **staticpage**: Identificador de página estática visitada\n",
    "* **campaign_source**: Origen de campaña, si el tráfico se originó de una campaña de marketing\n",
    "* **search_engine**: Motor de búsqueda desde donde se originó el evento, si aplica.\n",
    "* **channel**: Tipo de canal desde donde se originó el evento.\n",
    "* **new_vs_returning**: Indicador de si el evento fue generado por un usuario nuevo (New) o por un usuario que previamente había visitado el sitio (Returning) según el motor de analytics.\n",
    "* **city**: Ciudad desde donde se originó el evento\n",
    "* **region**: Región desde donde se originó el evento.\n",
    "* **country**: País desde donde se originó el evento.\n",
    "* **device_type**: Tipo de dispositivo desde donde se genero el evento.\n",
    "* **screen_resolution**: Resolución de pantalla que se está utilizando en el dispositivo desde donde se genero el evento.\n",
    "* **operating_system_version**: Version de sistema operativo desde donde se origino el evento.\n",
    "* **browser_version**: Versión del browser utilizado en el evento \n"
   ]
  },
  {
   "cell_type": "markdown",
   "metadata": {},
   "source": [
    "### Análisis de las categorías de eventos que pueden ocurrir\n",
    "Para comenzar a orientar el análisis veremos que tipos de eventos ocurren en trocafone y qué cantidad de éstos ocurrió de cada uno."
   ]
  },
  {
   "cell_type": "code",
   "execution_count": 21,
   "metadata": {},
   "outputs": [
    {
     "name": "stdout",
     "output_type": "stream",
     "text": [
      "viewed product       528931\n",
      "brand listing         98635\n",
      "visited site          87378\n",
      "ad campaign hit       82827\n",
      "generic listing       67534\n",
      "searched products     56073\n",
      "search engine hit     50957\n",
      "checkout              33735\n",
      "staticpage             3598\n",
      "conversion             1172\n",
      "lead                    448\n",
      "Name: event, dtype: int64\n"
     ]
    }
   ],
   "source": [
    "events_types = events['event']\n",
    "events_counts = events_types.value_counts()\n",
    "print(events_counts)"
   ]
  },
  {
   "cell_type": "markdown",
   "metadata": {},
   "source": [
    "Realizamos un gráfico de barras para observar estos datos:"
   ]
  },
  {
   "cell_type": "code",
   "execution_count": 6,
   "metadata": {
    "scrolled": false
   },
   "outputs": [
    {
     "data": {
      "text/plain": [
       "Text(0,0.5,'Ocurrencias')"
      ]
     },
     "execution_count": 6,
     "metadata": {},
     "output_type": "execute_result"
    },
    {
     "data": {
      "image/png": "[encoded data removed]",
      "text/plain": [
       "<Figure size 432x288 with 1 Axes>"
      ]
     },
     "metadata": {},
     "output_type": "display_data"
    }
   ],
   "source": [
    "plot_events_counts = events_counts.plot.bar()\n",
    "plot_events_counts.set_title(\"Distintos tipos de eventos y sus ocurrencias\", fontsize=18)\n",
    "plot_events_counts.set_xlabel(\"Tipos de eventos\")\n",
    "plot_events_counts.set_ylabel(\"Ocurrencias\")"
   ]
  },
  {
   "cell_type": "markdown",
   "metadata": {},
   "source": [
    "A continuación se lista la descripción de los eventos:\n",
    "\n",
    "* **viewed product**: El usuario visita una página de producto.\n",
    "* **brand listing**: El usuario visita un listado específico de una marca viendo un conjunto de productos.\n",
    "* **visited site**: El usuario ingresa al sitio a una determinada url.\n",
    "* **ad campaign hit**: El usuario ingresa al sitio mediante una campana de marketing online.\n",
    "* **generic listing**: El usuario visita la homepage.\n",
    "* **searched products**: El usuario realiza una búsqueda de productos en la interfaz de búsqueda del site.\n",
    "* **search engine hit**: El usuario ingresa al sitio mediante un motor de búsqueda web.\n",
    "* **checkout**: El usuario ingresa al checkout de compra de un producto.\n",
    "* **staticpage**: El usuario visita una página\n",
    "* **conversion**: El usuario realiza una conversión, comprando un producto.\n",
    "* **lead**: El usuario se registra para recibir una notificación de disponibilidad de stock, para un producto que no se encontraba disponible en ese momento."
   ]
  },
  {
   "cell_type": "markdown",
   "metadata": {},
   "source": [
    "### Transformación de object a timestamp\n",
    "Para poder trabajar con las fechas y hacer un análisis en base a esto debemos transformar los object a tipo de dato fecha.\n"
   ]
  },
  {
   "cell_type": "code",
   "execution_count": 7,
   "metadata": {},
   "outputs": [
    {
     "data": {
      "text/plain": [
       "timestamp                   datetime64[ns]\n",
       "event                               object\n",
       "person                              object\n",
       "url                                 object\n",
       "sku                                 object\n",
       "model                               object\n",
       "condition                           object\n",
       "storage                             object\n",
       "color                               object\n",
       "skus                                object\n",
       "search_term                         object\n",
       "staticpage                          object\n",
       "campaign_source                     object\n",
       "search_engine                       object\n",
       "channel                             object\n",
       "new_vs_returning                    object\n",
       "city                                object\n",
       "region                              object\n",
       "country                             object\n",
       "device_type                         object\n",
       "screen_resolution                   object\n",
       "operating_system_version            object\n",
       "browser_version                     object\n",
       "dtype: object"
      ]
     },
     "execution_count": 7,
     "metadata": {},
     "output_type": "execute_result"
    }
   ],
   "source": [
    "events['timestamp'] = pd.to_datetime(events['timestamp'])\n",
    "# Vemos los tipos de datos\n",
    "events.dtypes"
   ]
  },
  {
   "cell_type": "markdown",
   "metadata": {},
   "source": [
    "Agregamos las columnas de año y mes"
   ]
  },
  {
   "cell_type": "code",
   "execution_count": 8,
   "metadata": {},
   "outputs": [],
   "source": [
    "events['year'] = events['timestamp'].dt.year\n",
    "events['month'] = events['timestamp'].dt.month"
   ]
  },
  {
   "cell_type": "code",
   "execution_count": 9,
   "metadata": {},
   "outputs": [
    {
     "name": "stdout",
     "output_type": "stream",
     "text": [
      "2018    1011288\n",
      "Name: year, dtype: int64\n"
     ]
    }
   ],
   "source": [
    "# Vemos de cuantos anios y meses tenemos datos\n",
    "print(events['year'].value_counts())"
   ]
  },
  {
   "cell_type": "code",
   "execution_count": 10,
   "metadata": {},
   "outputs": [
    {
     "data": {
      "text/plain": [
       "Text(0,0.5,'Eventos')"
      ]
     },
     "execution_count": 10,
     "metadata": {},
     "output_type": "execute_result"
    },
    {
     "data": {
      "image/png": "[encoded data removed]",
      "text/plain": [
       "<Figure size 432x288 with 1 Axes>"
      ]
     },
     "metadata": {},
     "output_type": "display_data"
    }
   ],
   "source": [
    "plot_events_by_month = events['month'].value_counts().plot.bar()\n",
    "plot_events_by_month.set_title(\"Cantidad de eventos por mes\", fontsize=18)\n",
    "plot_events_by_month.set_xlabel(\"Mes del año 2018\")\n",
    "plot_events_by_month.set_ylabel(\"Eventos\")"
   ]
  },
  {
   "cell_type": "markdown",
   "metadata": {},
   "source": [
    "Como podemos observar tenemos solo datos del año 2018 desde enero hasta junio."
   ]
  },
  {
   "cell_type": "code",
   "execution_count": 11,
   "metadata": {},
   "outputs": [
    {
     "data": {
      "text/plain": [
       "Brazil                84308\n",
       "Unknown                2313\n",
       "United States           465\n",
       "Argentina                94\n",
       "Canada                   35\n",
       "France                   13\n",
       "Netherlands              13\n",
       "Mozambique               12\n",
       "United Kingdom           12\n",
       "Japan                    11\n",
       "Poland                    9\n",
       "French Guiana             8\n",
       "Italy                     7\n",
       "Romania                   7\n",
       "Portugal                  7\n",
       "Dominican Republic        6\n",
       "Russia                    6\n",
       "Guadeloupe                6\n",
       "Germany                   5\n",
       "Colombia                  4\n",
       "Bangladesh                4\n",
       "Paraguay                  4\n",
       "Switzerland               3\n",
       "India                     2\n",
       "Angola                    2\n",
       "Morocco                   2\n",
       "Mexico                    1\n",
       "Venezuela                 1\n",
       "Uzbekistan                1\n",
       "Ireland                   1\n",
       "Zimbabwe                  1\n",
       "Belize                    1\n",
       "Cape Verde                1\n",
       "Algeria                   1\n",
       "Philippines               1\n",
       "China                     1\n",
       "Israel                    1\n",
       "Peru                      1\n",
       "South Africa              1\n",
       "Turkey                    1\n",
       "Rwanda                    1\n",
       "Spain                     1\n",
       "Denmark                   1\n",
       "Uruguay                   1\n",
       "Saudi Arabia              1\n",
       "Sri Lanka                 1\n",
       "Name: country, dtype: int64"
      ]
     },
     "execution_count": 11,
     "metadata": {},
     "output_type": "execute_result"
    }
   ],
   "source": [
    "# Vemos los distintos valores de country\n",
    "events['country'].value_counts()"
   ]
  },
  {
   "cell_type": "code",
   "execution_count": 12,
   "metadata": {},
   "outputs": [
    {
     "data": {
      "text/plain": [
       "Sao Paulo                           24996\n",
       "Unknown                             14772\n",
       "Minas Gerais                         7755\n",
       "Rio de Janeiro                       6913\n",
       "Bahia                                5737\n",
       "Pernambuco                           2962\n",
       "Ceara                                2829\n",
       "Parana                               2602\n",
       "Rio Grande do Sul                    2576\n",
       "Federal District                     1739\n",
       "Goias                                1564\n",
       "Santa Catarina                       1511\n",
       "Para                                 1382\n",
       "Maranhao                             1303\n",
       "Espirito Santo                       1257\n",
       "Rio Grande do Norte                  1064\n",
       "Paraíba                               875\n",
       "Piaui                                 824\n",
       "Alagoas                               751\n",
       "Mato Grosso do Sul                    618\n",
       "Amazonas                              600\n",
       "Tocantins                             596\n",
       "Mato Grosso                           487\n",
       "Sergipe                               405\n",
       "Rondonia                              273\n",
       "California                            199\n",
       "Amapa                                 148\n",
       "New York                              105\n",
       "Acre                                   96\n",
       "Buenos Aires F.D.                      76\n",
       "                                    ...  \n",
       "Asuncion                                2\n",
       "Georgia                                 1\n",
       "Mendoza                                 1\n",
       "Arkansas                                1\n",
       "Western Province                        1\n",
       "Dhaka                                   1\n",
       "Monagas                                 1\n",
       "Paris                                   1\n",
       "Moscow                                  1\n",
       "Essonne                                 1\n",
       "Setúbal                                 1\n",
       "Indiana                                 1\n",
       "Delaware                                1\n",
       "Judetul Bacau                           1\n",
       "Loiret                                  1\n",
       "Santarém                                1\n",
       "Louisiana                               1\n",
       "Istanbul                                1\n",
       "Castelo Branco                          1\n",
       "Departamento de Montevideo              1\n",
       "Vologodskaya Oblast'                    1\n",
       "Vila Real                               1\n",
       "Milan                                   1\n",
       "Gauteng                                 1\n",
       "Inner Mongolia Autonomous Region        1\n",
       "Iowa                                    1\n",
       "Mexico City                             1\n",
       "Santa Fe                                1\n",
       "Neuquen                                 1\n",
       "Kenitra Province                        1\n",
       "Name: region, Length: 93, dtype: int64"
      ]
     },
     "execution_count": 12,
     "metadata": {},
     "output_type": "execute_result"
    }
   ],
   "source": [
    "# Vemos los distintos valores de region\n",
    "events['region'].value_counts()"
   ]
  },
  {
   "cell_type": "markdown",
   "metadata": {},
   "source": []
  },
  {
   "cell_type": "code",
   "execution_count": 13,
   "metadata": {},
   "outputs": [
    {
     "data": {
      "text/plain": [
       "Paid        44193\n",
       "Direct      18522\n",
       "Organic     12348\n",
       "Referral    11384\n",
       "Social        846\n",
       "Email          76\n",
       "Unknown         9\n",
       "Name: channel, dtype: int64"
      ]
     },
     "execution_count": 13,
     "metadata": {},
     "output_type": "execute_result"
    }
   ],
   "source": [
    "# Canales donde se originan los eventos\n",
    "\n",
    "# paid: anuncios pagos\n",
    "# direct: \n",
    "events['channel'].value_counts()"
   ]
  },
  {
   "cell_type": "markdown",
   "metadata": {},
   "source": [
    "## Filtrados\n",
    "\n",
    "Realizaremos una serie de filtraciones para ver la correlación entre los tipos de eventos."
   ]
  },
  {
   "cell_type": "code",
   "execution_count": 14,
   "metadata": {
    "scrolled": true
   },
   "outputs": [
    {
     "data": {
      "text/plain": [
       "1"
      ]
     },
     "execution_count": 14,
     "metadata": {},
     "output_type": "execute_result"
    }
   ],
   "source": [
    "channel_paid = events.loc[ events['channel'] == 'Paid' , : ]\n",
    "events['month'].min()"
   ]
  },
  {
   "cell_type": "markdown",
   "metadata": {},
   "source": [
    "Vemos los distintos tipos de dispositivos que generan eventos."
   ]
  },
  {
   "cell_type": "code",
   "execution_count": 15,
   "metadata": {},
   "outputs": [
    {
     "data": {
      "text/plain": [
       "Smartphone    44239\n",
       "Computer      41790\n",
       "Tablet         1234\n",
       "Unknown         115\n",
       "Name: device_type, dtype: int64"
      ]
     },
     "execution_count": 15,
     "metadata": {},
     "output_type": "execute_result"
    }
   ],
   "source": [
    "events['device_type'].value_counts()"
   ]
  },
  {
   "cell_type": "code",
   "execution_count": null,
   "metadata": {},
   "outputs": [],
   "source": []
  },
  {
   "cell_type": "code",
   "execution_count": 16,
   "metadata": {},
   "outputs": [
    {
     "data": {
      "text/plain": [
       "Windows 7             19675\n",
       "Windows 10            17110\n",
       "Android 7              9964\n",
       "Android 6.0.1          7805\n",
       "Android 6              6871\n",
       "Android 5.1.1          4123\n",
       "Android 7.1.1          3325\n",
       "Windows 8.1            2781\n",
       "Android 5.0.2          1640\n",
       "Android 4.4.2          1402\n",
       "iOS 11.3               1345\n",
       "Android 4.4.4          1288\n",
       "Android 5.1            1269\n",
       "Android 8               973\n",
       "Android 5.0.1           746\n",
       "iOS 10.3.3              738\n",
       "Windows 8               732\n",
       "Windows XP              613\n",
       "Android 4.2.2           566\n",
       "Android 4.1.2           519\n",
       "Android 5               321\n",
       "Android 4.3             318\n",
       "Linux                   293\n",
       "iOS 11.2.6              286\n",
       "iOS 9.3.5               268\n",
       "Windows Phone 10        252\n",
       "iOS 11.4                231\n",
       "Windows Phone 8.1       200\n",
       "iOS 11.2.5              147\n",
       "Android 7.1.2           141\n",
       "                      ...  \n",
       "Android 3.1               2\n",
       "iOS 5.0.1                 2\n",
       "Mac OS X 10.10.2          2\n",
       "iOS 11.0.1                2\n",
       "Ubuntu 10.4               2\n",
       "Mac OS X 10.11.3          2\n",
       "Mac OS X 10.10            2\n",
       "Chrome OS 10176.66        2\n",
       "Android 3.2               1\n",
       "Tizen 3                   1\n",
       "Android 4.4               1\n",
       "Mac OS X 10.10.4          1\n",
       "Mac OS X 10.10.3          1\n",
       "iOS 10.0.1                1\n",
       "Chrome OS 10452.74        1\n",
       "Mac OS X 10.6.4           1\n",
       "Mac OS X 10.10.1          1\n",
       "iOS 9.2.1                 1\n",
       "iOS 9.1                   1\n",
       "Chrome OS 10176.76        1\n",
       "iOS 8.3                   1\n",
       "iOS 8.1.3                 1\n",
       "Android 4.0.3             1\n",
       "Windows Phone 7.5         1\n",
       "Chrome OS 10032.75        1\n",
       "Chrome OS 10575.54        1\n",
       "Mac OS X 10.11.1          1\n",
       "iOS 8.1                   1\n",
       "iOS 11.4.1                1\n",
       "Android 6.3               1\n",
       "Name: operating_system_version, Length: 121, dtype: int64"
      ]
     },
     "execution_count": 16,
     "metadata": {},
     "output_type": "execute_result"
    }
   ],
   "source": [
    "events['operating_system_version'].value_counts()"
   ]
  },
  {
   "cell_type": "code",
   "execution_count": 17,
   "metadata": {},
   "outputs": [
    {
     "data": {
      "text/plain": [
       "360x640      30009\n",
       "1366x768     21379\n",
       "320x534       3622\n",
       "1920x1080     3521\n",
       "320x570       2561\n",
       "1360x768      2476\n",
       "1600x900      2435\n",
       "1024x768      2362\n",
       "1440x900      2210\n",
       "1280x1024     1914\n",
       "320x568       1780\n",
       "1280x720      1139\n",
       "1280x800      1102\n",
       "1536x864      1057\n",
       "412x732        934\n",
       "375x667        931\n",
       "424x753        744\n",
       "320x480        600\n",
       "320x569        551\n",
       "600x1024       432\n",
       "1680x1050      373\n",
       "1280x768       343\n",
       "1024x600       317\n",
       "768x1024       316\n",
       "414x736        231\n",
       "640x360        227\n",
       "480x800        215\n",
       "1093x615       208\n",
       "360x740        203\n",
       "320x427        163\n",
       "             ...  \n",
       "1813x1024        1\n",
       "1600x1024        1\n",
       "385x683          1\n",
       "421x748          1\n",
       "1007x569         1\n",
       "722x406          1\n",
       "1179x662         1\n",
       "531x944          1\n",
       "800x450          1\n",
       "2048x864         1\n",
       "721x1281         1\n",
       "1800x1125        1\n",
       "400x690          1\n",
       "320x192          1\n",
       "290x327          1\n",
       "320x240          1\n",
       "1371x771         1\n",
       "290x321          1\n",
       "1024x756         1\n",
       "971x549          1\n",
       "290x305          1\n",
       "1776x1000        1\n",
       "240x282          1\n",
       "1951x1097        1\n",
       "351x623          1\n",
       "391x695          1\n",
       "240x260          1\n",
       "218x189          1\n",
       "1252x783         1\n",
       "1263x789         1\n",
       "Name: screen_resolution, Length: 282, dtype: int64"
      ]
     },
     "execution_count": 17,
     "metadata": {},
     "output_type": "execute_result"
    }
   ],
   "source": [
    "events['screen_resolution'].value_counts()"
   ]
  },
  {
   "cell_type": "code",
   "execution_count": null,
   "metadata": {},
   "outputs": [],
   "source": []
  }
 ],
 "metadata": {
  "kernelspec": {
   "display_name": "Python 3",
   "language": "python",
   "name": "python3"
  },
  "language_info": {
   "codemirror_mode": {
    "name": "ipython",
    "version": 3
   },
   "file_extension": ".py",
   "mimetype": "text/x-python",
   "name": "python",
   "nbconvert_exporter": "python",
   "pygments_lexer": "ipython3",
   "version": "3.6.5"
  }
 },
 "nbformat": 4,
 "nbformat_minor": 2
}
